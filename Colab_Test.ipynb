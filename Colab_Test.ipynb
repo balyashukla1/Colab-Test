{
  "nbformat": 4,
  "nbformat_minor": 0,
  "metadata": {
    "colab": {
      "name": "Colab_Test.ipynb",
      "provenance": [],
      "authorship_tag": "ABX9TyM9sqcZHoGkkiETfpdRQPiZ",
      "include_colab_link": true
    },
    "kernelspec": {
      "name": "python3",
      "display_name": "Python 3"
    }
  },
  "cells": [
    {
      "cell_type": "markdown",
      "metadata": {
        "id": "view-in-github",
        "colab_type": "text"
      },
      "source": [
        "<a href=\"https://colab.research.google.com/github/balyashukla1/Colab-Test/blob/master/Colab_Test.ipynb\" target=\"_parent\"><img src=\"https://colab.research.google.com/assets/colab-badge.svg\" alt=\"Open In Colab\"/></a>"
      ]
    },
    {
      "cell_type": "markdown",
      "metadata": {
        "id": "wuF3VBwbO8WW",
        "colab_type": "text"
      },
      "source": [
        "Hello Class! "
      ]
    },
    {
      "cell_type": "code",
      "metadata": {
        "id": "YJ_oI2qrYpb5",
        "colab_type": "code",
        "colab": {}
      },
      "source": [
        ""
      ],
      "execution_count": 0,
      "outputs": []
    },
    {
      "cell_type": "markdown",
      "metadata": {
        "id": "qGwS4ZmOYqOu",
        "colab_type": "text"
      },
      "source": [
        "![alt text](https://user-images.githubusercontent.com/60294076/73123632-ec78bc80-3f5f-11ea-9fcd-a17f8eba9cc8.png)"
      ]
    },
    {
      "cell_type": "code",
      "metadata": {
        "id": "WTsLM8tIYzVP",
        "colab_type": "code",
        "colab": {}
      },
      "source": [
        ""
      ],
      "execution_count": 0,
      "outputs": []
    }
  ]
}